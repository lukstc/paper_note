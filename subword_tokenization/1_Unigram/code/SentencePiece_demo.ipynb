{
 "cells": [
  {
   "cell_type": "code",
   "execution_count": 6,
   "id": "5eb22004",
   "metadata": {},
   "outputs": [],
   "source": [
    "# ! pip install sentencepiece"
   ]
  },
  {
   "cell_type": "code",
   "execution_count": 7,
   "id": "dea8aa6b",
   "metadata": {},
   "outputs": [],
   "source": [
    "import sentencepiece as spm"
   ]
  },
  {
   "cell_type": "code",
   "execution_count": 9,
   "id": "7c77be07",
   "metadata": {},
   "outputs": [
    {
     "name": "stderr",
     "output_type": "stream",
     "text": [
      "sentencepiece_trainer.cc(77) LOG(INFO) Starts training with : \n",
      "trainer_spec {\n",
      "  input: wiki_usa.txt\n",
      "  input_format: \n",
      "  model_prefix: m\n",
      "  model_type: UNIGRAM\n",
      "  vocab_size: 1000\n",
      "  self_test_sample_size: 0\n",
      "  character_coverage: 0.9995\n",
      "  input_sentence_size: 0\n",
      "  shuffle_input_sentence: 1\n",
      "  seed_sentencepiece_size: 1000000\n",
      "  shrinking_factor: 0.75\n",
      "  max_sentence_length: 4192\n",
      "  num_threads: 16\n",
      "  num_sub_iterations: 2\n",
      "  max_sentencepiece_length: 16\n",
      "  split_by_unicode_script: 1\n",
      "  split_by_number: 1\n",
      "  split_by_whitespace: 1\n",
      "  split_digits: 0\n",
      "  treat_whitespace_as_suffix: 0\n",
      "  allow_whitespace_only_pieces: 0\n",
      "  user_defined_symbols: foo\n",
      "  user_defined_symbols: bar\n",
      "  required_chars: \n",
      "  byte_fallback: 0\n",
      "  vocabulary_output_piece_score: 1\n",
      "  train_extremely_large_corpus: 0\n",
      "  hard_vocab_limit: 1\n",
      "  use_all_vocab: 0\n",
      "  unk_id: 0\n",
      "  bos_id: 1\n",
      "  eos_id: 2\n",
      "  pad_id: -1\n",
      "  unk_piece: <unk>\n",
      "  bos_piece: <s>\n",
      "  eos_piece: </s>\n",
      "  pad_piece: <pad>\n",
      "  unk_surface:  ⁇ \n",
      "}\n",
      "normalizer_spec {\n",
      "  name: nmt_nfkc\n",
      "  add_dummy_prefix: 1\n",
      "  remove_extra_whitespaces: 1\n",
      "  escape_whitespaces: 1\n",
      "  normalization_rule_tsv: \n",
      "}\n",
      "denormalizer_spec {}\n",
      "trainer_interface.cc(329) LOG(INFO) SentenceIterator is not specified. Using MultiFileSentenceIterator.\n",
      "trainer_interface.cc(178) LOG(INFO) Loading corpus: wiki_usa.txt\n",
      "trainer_interface.cc(385) LOG(INFO) Loaded all 1323 sentences\n",
      "trainer_interface.cc(400) LOG(INFO) Adding meta_piece: <unk>\n",
      "trainer_interface.cc(400) LOG(INFO) Adding meta_piece: <s>\n",
      "trainer_interface.cc(400) LOG(INFO) Adding meta_piece: </s>\n",
      "trainer_interface.cc(400) LOG(INFO) Adding meta_piece: foo\n",
      "trainer_interface.cc(400) LOG(INFO) Adding meta_piece: bar\n",
      "trainer_interface.cc(405) LOG(INFO) Normalizing sentences...\n",
      "trainer_interface.cc(466) LOG(INFO) all chars count=203764\n",
      "trainer_interface.cc(477) LOG(INFO) Done: 99.9524% characters are covered.\n",
      "trainer_interface.cc(487) LOG(INFO) Alphabet size=82\n",
      "trainer_interface.cc(488) LOG(INFO) Final character coverage=0.999524\n",
      "trainer_interface.cc(520) LOG(INFO) Done! preprocessed 1323 sentences.\n",
      "unigram_model_trainer.cc(139) LOG(INFO) Making suffix array...\n",
      "unigram_model_trainer.cc(143) LOG(INFO) Extracting frequent sub strings...\n",
      "unigram_model_trainer.cc(194) LOG(INFO) Initialized 19873 seed sentencepieces\n",
      "trainer_interface.cc(526) LOG(INFO) Tokenizing input sentences with whitespace: 1323\n",
      "trainer_interface.cc(537) LOG(INFO) Done! 9873\n",
      "unigram_model_trainer.cc(489) LOG(INFO) Using 9873 sentences for EM training\n",
      "unigram_model_trainer.cc(505) LOG(INFO) EM sub_iter=0 size=7942 obj=14.5105 num_tokens=22952 num_tokens/piece=2.88995\n",
      "unigram_model_trainer.cc(505) LOG(INFO) EM sub_iter=1 size=7136 obj=12.425 num_tokens=23109 num_tokens/piece=3.23837\n",
      "unigram_model_trainer.cc(505) LOG(INFO) EM sub_iter=0 size=5343 obj=12.5427 num_tokens=24706 num_tokens/piece=4.62399\n",
      "unigram_model_trainer.cc(505) LOG(INFO) EM sub_iter=1 size=5335 obj=12.4164 num_tokens=24720 num_tokens/piece=4.63355\n",
      "unigram_model_trainer.cc(505) LOG(INFO) EM sub_iter=0 size=4001 obj=12.8171 num_tokens=27098 num_tokens/piece=6.77281\n",
      "unigram_model_trainer.cc(505) LOG(INFO) EM sub_iter=1 size=4000 obj=12.6897 num_tokens=27104 num_tokens/piece=6.776\n",
      "unigram_model_trainer.cc(505) LOG(INFO) EM sub_iter=0 size=3000 obj=13.2469 num_tokens=29998 num_tokens/piece=9.99933\n",
      "unigram_model_trainer.cc(505) LOG(INFO) EM sub_iter=1 size=3000 obj=13.1074 num_tokens=29998 num_tokens/piece=9.99933\n",
      "unigram_model_trainer.cc(505) LOG(INFO) EM sub_iter=0 size=2250 obj=13.7489 num_tokens=33233 num_tokens/piece=14.7702\n",
      "unigram_model_trainer.cc(505) LOG(INFO) EM sub_iter=1 size=2250 obj=13.6125 num_tokens=33233 num_tokens/piece=14.7702\n",
      "unigram_model_trainer.cc(505) LOG(INFO) EM sub_iter=0 size=1687 obj=14.312 num_tokens=36662 num_tokens/piece=21.7321\n",
      "unigram_model_trainer.cc(505) LOG(INFO) EM sub_iter=1 size=1687 obj=14.1813 num_tokens=36664 num_tokens/piece=21.7333\n",
      "unigram_model_trainer.cc(505) LOG(INFO) EM sub_iter=0 size=1265 obj=14.9006 num_tokens=39942 num_tokens/piece=31.5747\n",
      "unigram_model_trainer.cc(505) LOG(INFO) EM sub_iter=1 size=1265 obj=14.769 num_tokens=39947 num_tokens/piece=31.5787\n",
      "unigram_model_trainer.cc(505) LOG(INFO) EM sub_iter=0 size=1100 obj=15.1026 num_tokens=41493 num_tokens/piece=37.7209\n",
      "unigram_model_trainer.cc(505) LOG(INFO) EM sub_iter=1 size=1100 obj=15.0467 num_tokens=41493 num_tokens/piece=37.7209\n",
      "trainer_interface.cc(615) LOG(INFO) Saving model: m.model\n",
      "trainer_interface.cc(626) LOG(INFO) Saving vocabs: m.vocab\n"
     ]
    }
   ],
   "source": [
    "# prepare vocab\n",
    "spm.SentencePieceTrainer.train(\n",
    "    # input='test/botchan.txt', \n",
    "    input='wiki_usa.txt', \n",
    "    model_prefix='m', \n",
    "    vocab_size=1000, \n",
    "    user_defined_symbols=['foo', 'bar']\n",
    ")"
   ]
  },
  {
   "cell_type": "code",
   "execution_count": 10,
   "id": "720c3657",
   "metadata": {},
   "outputs": [
    {
     "data": {
      "text/plain": [
       "True"
      ]
     },
     "execution_count": 10,
     "metadata": {},
     "output_type": "execute_result"
    }
   ],
   "source": [
    "sp = spm.SentencePieceProcessor()\n",
    "sp.Load(\"m.model\")"
   ]
  },
  {
   "cell_type": "code",
   "execution_count": 12,
   "id": "27f187ab",
   "metadata": {},
   "outputs": [
    {
     "data": {
      "text/plain": [
       "['▁Th', 'is', '▁is', '▁a', '▁t', 'est']"
      ]
     },
     "execution_count": 12,
     "metadata": {},
     "output_type": "execute_result"
    }
   ],
   "source": [
    "# tokenize\n",
    "sp.EncodeAsPieces(\"This is a test\")"
   ]
  },
  {
   "cell_type": "code",
   "execution_count": 13,
   "id": "6a011abe",
   "metadata": {},
   "outputs": [
    {
     "data": {
      "text/plain": [
       "[361, 99, 104, 42, 258, 165]"
      ]
     },
     "execution_count": 13,
     "metadata": {},
     "output_type": "execute_result"
    }
   ],
   "source": [
    "sp.EncodeAsIds(\"This is a test\")"
   ]
  },
  {
   "cell_type": "code",
   "execution_count": 3,
   "id": "f0ec3a0b",
   "metadata": {},
   "outputs": [],
   "source": [
    "# detokenize"
   ]
  },
  {
   "cell_type": "code",
   "execution_count": 14,
   "id": "91280b5b",
   "metadata": {},
   "outputs": [
    {
     "data": {
      "text/plain": [
       "'This is a test'"
      ]
     },
     "execution_count": 14,
     "metadata": {},
     "output_type": "execute_result"
    }
   ],
   "source": [
    "sp.decode(['▁Th', 'is', '▁is', '▁a', '▁t', 'est'])"
   ]
  },
  {
   "cell_type": "code",
   "execution_count": 15,
   "id": "48805898",
   "metadata": {},
   "outputs": [
    {
     "data": {
      "text/plain": [
       "'This is a test'"
      ]
     },
     "execution_count": 15,
     "metadata": {},
     "output_type": "execute_result"
    }
   ],
   "source": [
    "sp.decode_ids([361, 99, 104, 42, 258, 165])"
   ]
  },
  {
   "cell_type": "code",
   "execution_count": 16,
   "id": "cbdffca7",
   "metadata": {},
   "outputs": [
    {
     "name": "stderr",
     "output_type": "stream",
     "text": [
      "sentencepiece_trainer.cc(77) LOG(INFO) Starts training with : \n",
      "trainer_spec {\n",
      "  input: wiki_china.txt\n",
      "  input_format: \n",
      "  model_prefix: zh\n",
      "  model_type: UNIGRAM\n",
      "  vocab_size: 3000\n",
      "  self_test_sample_size: 0\n",
      "  character_coverage: 0.9995\n",
      "  input_sentence_size: 0\n",
      "  shuffle_input_sentence: 1\n",
      "  seed_sentencepiece_size: 1000000\n",
      "  shrinking_factor: 0.75\n",
      "  max_sentence_length: 4192\n",
      "  num_threads: 16\n",
      "  num_sub_iterations: 2\n",
      "  max_sentencepiece_length: 16\n",
      "  split_by_unicode_script: 1\n",
      "  split_by_number: 1\n",
      "  split_by_whitespace: 1\n",
      "  split_digits: 0\n",
      "  treat_whitespace_as_suffix: 0\n",
      "  allow_whitespace_only_pieces: 0\n",
      "  user_defined_symbols: 成都\n",
      "  required_chars: \n",
      "  byte_fallback: 0\n",
      "  vocabulary_output_piece_score: 1\n",
      "  train_extremely_large_corpus: 0\n",
      "  hard_vocab_limit: 1\n",
      "  use_all_vocab: 0\n",
      "  unk_id: 0\n",
      "  bos_id: 1\n",
      "  eos_id: 2\n",
      "  pad_id: -1\n",
      "  unk_piece: <unk>\n",
      "  bos_piece: <s>\n",
      "  eos_piece: </s>\n",
      "  pad_piece: <pad>\n",
      "  unk_surface:  ⁇ \n",
      "}\n",
      "normalizer_spec {\n",
      "  name: nmt_nfkc\n",
      "  add_dummy_prefix: 1\n",
      "  remove_extra_whitespaces: 1\n",
      "  escape_whitespaces: 1\n",
      "  normalization_rule_tsv: \n",
      "}\n",
      "denormalizer_spec {}\n",
      "trainer_interface.cc(329) LOG(INFO) SentenceIterator is not specified. Using MultiFileSentenceIterator.\n",
      "trainer_interface.cc(178) LOG(INFO) Loading corpus: wiki_china.txt\n",
      "trainer_interface.cc(385) LOG(INFO) Loaded all 1884 sentences\n",
      "trainer_interface.cc(400) LOG(INFO) Adding meta_piece: <unk>\n",
      "trainer_interface.cc(400) LOG(INFO) Adding meta_piece: <s>\n",
      "trainer_interface.cc(400) LOG(INFO) Adding meta_piece: </s>\n",
      "trainer_interface.cc(400) LOG(INFO) Adding meta_piece: 成都\n",
      "trainer_interface.cc(405) LOG(INFO) Normalizing sentences...\n",
      "trainer_interface.cc(466) LOG(INFO) all chars count=138512\n",
      "trainer_interface.cc(477) LOG(INFO) Done: 99.9502% characters are covered.\n",
      "trainer_interface.cc(487) LOG(INFO) Alphabet size=2231\n",
      "trainer_interface.cc(488) LOG(INFO) Final character coverage=0.999502\n",
      "trainer_interface.cc(520) LOG(INFO) Done! preprocessed 1868 sentences.\n",
      "unigram_model_trainer.cc(139) LOG(INFO) Making suffix array...\n",
      "unigram_model_trainer.cc(143) LOG(INFO) Extracting frequent sub strings...\n",
      "unigram_model_trainer.cc(194) LOG(INFO) Initialized 22001 seed sentencepieces\n",
      "trainer_interface.cc(526) LOG(INFO) Tokenizing input sentences with whitespace: 1868\n",
      "trainer_interface.cc(537) LOG(INFO) Done! 5540\n",
      "unigram_model_trainer.cc(489) LOG(INFO) Using 5540 sentences for EM training\n",
      "unigram_model_trainer.cc(505) LOG(INFO) EM sub_iter=0 size=11752 obj=54.6906 num_tokens=45206 num_tokens/piece=3.84666\n",
      "unigram_model_trainer.cc(505) LOG(INFO) EM sub_iter=1 size=11011 obj=48.0918 num_tokens=45417 num_tokens/piece=4.12469\n",
      "unigram_model_trainer.cc(505) LOG(INFO) EM sub_iter=0 size=8250 obj=49.734 num_tokens=48364 num_tokens/piece=5.8623\n",
      "unigram_model_trainer.cc(505) LOG(INFO) EM sub_iter=1 size=8241 obj=49.2049 num_tokens=48385 num_tokens/piece=5.87125\n",
      "unigram_model_trainer.cc(505) LOG(INFO) EM sub_iter=0 size=6180 obj=52.219 num_tokens=52683 num_tokens/piece=8.52476\n",
      "unigram_model_trainer.cc(505) LOG(INFO) EM sub_iter=1 size=6180 obj=51.546 num_tokens=52710 num_tokens/piece=8.52913\n",
      "unigram_model_trainer.cc(505) LOG(INFO) EM sub_iter=0 size=4634 obj=55.4431 num_tokens=57767 num_tokens/piece=12.4659\n",
      "unigram_model_trainer.cc(505) LOG(INFO) EM sub_iter=1 size=4634 obj=54.7049 num_tokens=57772 num_tokens/piece=12.467\n",
      "unigram_model_trainer.cc(505) LOG(INFO) EM sub_iter=0 size=3475 obj=59.8198 num_tokens=64243 num_tokens/piece=18.4872\n",
      "unigram_model_trainer.cc(505) LOG(INFO) EM sub_iter=1 size=3475 obj=58.9852 num_tokens=64243 num_tokens/piece=18.4872\n",
      "unigram_model_trainer.cc(505) LOG(INFO) EM sub_iter=0 size=3300 obj=59.9375 num_tokens=65563 num_tokens/piece=19.8676\n",
      "unigram_model_trainer.cc(505) LOG(INFO) EM sub_iter=1 size=3300 obj=59.7892 num_tokens=65563 num_tokens/piece=19.8676\n",
      "trainer_interface.cc(615) LOG(INFO) Saving model: zh.model\n",
      "trainer_interface.cc(626) LOG(INFO) Saving vocabs: zh.vocab\n"
     ]
    },
    {
     "data": {
      "text/plain": [
       "True"
      ]
     },
     "execution_count": 16,
     "metadata": {},
     "output_type": "execute_result"
    }
   ],
   "source": [
    "spm.SentencePieceTrainer.train(\n",
    "    input='wiki_china.txt', \n",
    "    model_prefix='zh', \n",
    "    vocab_size=3000, \n",
    "    user_defined_symbols=['成都']\n",
    ")\n",
    "\n",
    "sp_zh = spm.SentencePieceProcessor()\n",
    "\n",
    "sp_zh.Load(\"zh.model\")"
   ]
  },
  {
   "cell_type": "code",
   "execution_count": 17,
   "id": "b2c0f104",
   "metadata": {},
   "outputs": [
    {
     "data": {
      "text/plain": [
       "['▁',\n",
       " '成都',\n",
       " '市',\n",
       " '于',\n",
       " '2007',\n",
       " '年',\n",
       " '被',\n",
       " '中华人民共和国',\n",
       " '国家',\n",
       " '旅游',\n",
       " '局',\n",
       " '与',\n",
       " '世界',\n",
       " '旅游',\n",
       " '组织',\n",
       " '命',\n",
       " '名',\n",
       " '为',\n",
       " '“',\n",
       " '中国',\n",
       " '最',\n",
       " '佳',\n",
       " '旅游',\n",
       " '城市',\n",
       " '”。',\n",
       " '▁2021',\n",
       " '年',\n",
       " '夏',\n",
       " '季',\n",
       " '世界',\n",
       " '大学',\n",
       " '生',\n",
       " '运动',\n",
       " '会',\n",
       " '[15',\n",
       " ']',\n",
       " '和',\n",
       " '20',\n",
       " '25',\n",
       " '年',\n",
       " '世界',\n",
       " '运动',\n",
       " '会',\n",
       " '将',\n",
       " '在',\n",
       " '成都',\n",
       " '举',\n",
       " '办',\n",
       " '。']"
      ]
     },
     "execution_count": 17,
     "metadata": {},
     "output_type": "execute_result"
    }
   ],
   "source": [
    "sp_zh.EncodeAsPieces(\n",
    "    \"\"\"\n",
    "    成都市于2007年被中华人民共和国国家旅游局与世界旅游组织命名为“中国最佳旅游城市”。\n",
    "    2021年夏季世界大学生运动会[15]和2025年世界运动会将在成都举办。\n",
    "    \"\"\"\n",
    ")"
   ]
  },
  {
   "cell_type": "code",
   "execution_count": 20,
   "id": "f836e844",
   "metadata": {},
   "outputs": [],
   "source": [
    "tmp = sp_zh.EncodeAsIds(\n",
    "    \"\"\"\n",
    "    成都市于2007年被中华人民共和国国家旅游局与世界旅游组织命名为“中国最佳旅游城市”。\n",
    "    2021年夏季世界大学生运动会[15]和2025年世界运动会将在成都举办。\n",
    "    \"\"\"\n",
    ")"
   ]
  },
  {
   "cell_type": "code",
   "execution_count": 21,
   "id": "116212f7",
   "metadata": {},
   "outputs": [
    {
     "data": {
      "text/plain": [
       "'成都市于2007年被中华人民共和国国家旅游局与世界旅游组织命名为“中国最佳旅游城市”。 2021年夏季世界大学生运动会[15]和2025年世界运动会将在成都举办。'"
      ]
     },
     "execution_count": 21,
     "metadata": {},
     "output_type": "execute_result"
    }
   ],
   "source": [
    "sp_zh.decode_ids(tmp)"
   ]
  },
  {
   "cell_type": "code",
   "execution_count": 19,
   "id": "7b0f27e3",
   "metadata": {},
   "outputs": [
    {
     "data": {
      "text/plain": [
       "['▁', '维基', '百', '科', ',', '维基', '语', '录', ',', '维基', '新闻', ',', '中华人民共和国']"
      ]
     },
     "execution_count": 19,
     "metadata": {},
     "output_type": "execute_result"
    }
   ],
   "source": [
    "sp_zh.EncodeAsPieces(\n",
    "    \"\"\"\n",
    "    维基百科，维基语录，维基新闻,中华人民共和国\n",
    "    \"\"\"\n",
    ")"
   ]
  },
  {
   "cell_type": "code",
   "execution_count": null,
   "id": "28d40384",
   "metadata": {},
   "outputs": [],
   "source": []
  }
 ],
 "metadata": {
  "kernelspec": {
   "display_name": "Python 3 (ipykernel)",
   "language": "python",
   "name": "python3"
  },
  "language_info": {
   "codemirror_mode": {
    "name": "ipython",
    "version": 3
   },
   "file_extension": ".py",
   "mimetype": "text/x-python",
   "name": "python",
   "nbconvert_exporter": "python",
   "pygments_lexer": "ipython3",
   "version": "3.8.3"
  }
 },
 "nbformat": 4,
 "nbformat_minor": 5
}
